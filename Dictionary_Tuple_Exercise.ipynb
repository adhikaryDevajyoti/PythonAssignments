{
 "cells": [
  {
   "cell_type": "code",
   "execution_count": 16,
   "id": "ad0bd8dd",
   "metadata": {},
   "outputs": [
    {
     "name": "stdout",
     "output_type": "stream",
     "text": [
      "{'china': 143, 'india': 132, 'USA': 32, 'Pakistan': 21}\n",
      "enter your desireremove\n",
      "Enter country namekka\n",
      "country absent\n"
     ]
    }
   ],
   "source": [
    "population = {\"china\": 143, \"india\": 132, \"USA\": 32, \"Pakistan\": 21}\n",
    "print(population)\n",
    "desire = input(\"enter your desire\")\n",
    "\n",
    "if (desire == \"print\"):\n",
    "    for x in population:\n",
    "        print(x,\"==>\",population[x])\n",
    "        \n",
    "if (desire == \"add\"):\n",
    "    countryName = input(\"Enter country name\")\n",
    "    \n",
    "    if (countryName in population):\n",
    "        print(\"Country already exist\")\n",
    "        \n",
    "    else:\n",
    "        countryPop = int(input(\"Enter population\"))\n",
    "        population[countryName] = countryPop\n",
    "        for x in population:\n",
    "            print(x,\"==>\",population[x])\n",
    "            \n",
    "if (desire == \"remove\"):\n",
    "    countryName = input(\"Enter country name\")\n",
    "    if (countryName in population):\n",
    "        del population[countryName]\n",
    "        for x in population:\n",
    "            print(x , \"==>\" , population[x])\n",
    "    else :\n",
    "        print(\"country absent\")\n",
    "    \n",
    " "
   ]
  },
  {
   "cell_type": "code",
   "execution_count": 34,
   "id": "7c37a3b6",
   "metadata": {},
   "outputs": [
    {
     "name": "stdout",
     "output_type": "stream",
     "text": [
      " enter your choiceadd\n",
      "Stock nametata\n",
      "Stock Price25\n",
      "info ==> (600, 630, 620)\n",
      "ril ==> (1430, 1490, 1567)\n",
      "mtl ==> (1430, 1490, 1567)\n",
      "tata ==> 25\n"
     ]
    }
   ],
   "source": [
    "# Tuple\n",
    "info = (600,630,620)\n",
    "ril = (1430,1490,1567)\n",
    "mtl = (1430,1490,1567)\n",
    "stockDictionary = {\"info\":info,\"ril\":ril,\"mtl\": mtl }\n",
    "def average(exp):\n",
    "    for x in exp:\n",
    "        total = exp[0] + exp[1]+ exp[2]\n",
    "        average = total/3\n",
    "        average = round(average,2)\n",
    "    return average\n",
    "\n",
    "\n",
    "choice = input(\" enter your choice\")\n",
    "if (choice == \"print\"):\n",
    "    for item in stockDictionary:\n",
    "        print(item,\"==>\",stockDictionary[item],\"==>\",average(stockDictionary[item]))\n",
    "if (choice == \"add\"):\n",
    "    stockName = input(\"Stock name\")\n",
    "    if (stockName in stockDictionary):\n",
    "        print(\"Stock already present\")\n",
    "    else:\n",
    "        stockPrice = input(\"Stock Price\")\n",
    "        stockDictionary[stockName]=(stockPrice)\n",
    "        for item in stockDictionary:\n",
    "            print(item,\"==>\",stockDictionary[item])"
   ]
  },
  {
   "cell_type": "code",
   "execution_count": 42,
   "id": "5ff2525c",
   "metadata": {},
   "outputs": [
    {
     "name": "stdout",
     "output_type": "stream",
     "text": [
      "enter radius4\n",
      "diameter 8\n",
      "circumference 25.12\n",
      "area 50.24\n"
     ]
    }
   ],
   "source": [
    "def circle_calc(radius):\n",
    "    dict = {}\n",
    "    dict[\"diameter\"]= 2*radius\n",
    "    dict[\"circumference\"] = 2*3.14*radius\n",
    "    dict[\"area\"] = 3.14*radius**2\n",
    "    return dict\n",
    "\n",
    "radius = int(input(\"enter radius\"))\n",
    "dict = {}\n",
    "dict = circle_calc(radius)\n",
    "for item in dict:\n",
    "    print(item,dict[item])"
   ]
  },
  {
   "cell_type": "code",
   "execution_count": null,
   "id": "a964d6f1",
   "metadata": {},
   "outputs": [],
   "source": []
  },
  {
   "cell_type": "code",
   "execution_count": null,
   "id": "8e664da8",
   "metadata": {},
   "outputs": [],
   "source": []
  }
 ],
 "metadata": {
  "kernelspec": {
   "display_name": "Python 3 (ipykernel)",
   "language": "python",
   "name": "python3"
  },
  "language_info": {
   "codemirror_mode": {
    "name": "ipython",
    "version": 3
   },
   "file_extension": ".py",
   "mimetype": "text/x-python",
   "name": "python",
   "nbconvert_exporter": "python",
   "pygments_lexer": "ipython3",
   "version": "3.9.13"
  }
 },
 "nbformat": 4,
 "nbformat_minor": 5
}
